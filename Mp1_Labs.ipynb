{
  "nbformat": 4,
  "nbformat_minor": 0,
  "metadata": {
    "colab": {
      "name": "Mp1_Labs.ipynb",
      "provenance": [],
      "collapsed_sections": []
    },
    "kernelspec": {
      "display_name": "Python 3",
      "language": "python",
      "name": "python3"
    },
    "language_info": {
      "codemirror_mode": {
        "name": "ipython",
        "version": 3
      },
      "file_extension": ".py",
      "mimetype": "text/x-python",
      "name": "python",
      "nbconvert_exporter": "python",
      "pygments_lexer": "ipython3",
      "version": "3.8.3"
    }
  },
  "cells": [
    {
      "cell_type": "markdown",
      "metadata": {
        "id": "UcBhk6I-UVI4"
      },
      "source": [
        "**Graphical Method**"
      ]
    },
    {
      "cell_type": "code",
      "metadata": {
        "colab": {
          "base_uri": "https://localhost:8080/",
          "height": 296
        },
        "id": "KwsevNnVZBo9",
        "outputId": "22a859c2-2228-4062-e394-738e3a17c6a5"
      },
      "source": [
        "#Graphical method\n",
        "import numpy as np\n",
        "import matplotlib.pyplot as plt\n",
        "%matplotlib inline\n",
        "# Construct lines\n",
        "# x > 0\n",
        "x = np.linspace(0, 20, 2000)\n",
        "# y >= 2\n",
        "y1 = (x*0) + 2\n",
        "# 2y <= 25 - x\n",
        "y2 = (25-x)/2.0\n",
        "# 4y >= 2x - 8\n",
        "y3 = (2*x-8)/4.0\n",
        "# y <= 2x - 5\n",
        "y4 = 2 * x -5\n",
        "# Make plot\n",
        "plt.plot(x, y1, label=r'$y\\geq2$')\n",
        "plt.plot(x, y2, label=r'$2y\\leq25-x$')\n",
        "plt.plot(x, y3, label=r'$4y\\geq 2x - 8$')\n",
        "plt.plot(x, y4, label=r'$y\\leq 2x-5$')\n",
        "# plt.xlim((0, 16))\n",
        "# plt.ylim((0, 11))\n",
        "plt.xlabel(r'$x$')\n",
        "plt.ylabel(r'$y$')\n",
        "# Fill feasible region\n",
        "y5 = np.minimum(y2, y4)\n",
        "y6 = np.maximum(y1, y3)\n",
        "plt.fill_between(x, y5, y6, where=y5>y6, color='grey', alpha=0.5)\n",
        "plt.legend()"
      ],
      "execution_count": null,
      "outputs": [
        {
          "output_type": "execute_result",
          "data": {
            "text/plain": [
              "<matplotlib.legend.Legend at 0x7fcb5c280a10>"
            ]
          },
          "metadata": {},
          "execution_count": 81
        },
        {
          "output_type": "display_data",
          "data": {
            "image/png": "[encoded data removed]",
            "text/plain": [
              "<Figure size 432x288 with 1 Axes>"
            ]
          },
          "metadata": {
            "needs_background": "light"
          }
        }
      ]
    },
    {
      "cell_type": "markdown",
      "metadata": {
        "id": "gKCL_3ojUZd3"
      },
      "source": [
        "**Simplex Method**"
      ]
    },
    {
      "cell_type": "code",
      "metadata": {
        "colab": {
          "base_uri": "https://localhost:8080/"
        },
        "id": "w6irgNlmZJMx",
        "outputId": "491f9d07-b412-4706-88c1-0875c8a45362"
      },
      "source": [
        "#simplex method\n",
        "import numpy as np\n",
        "import scipy as sp\n",
        "c = [-3, -5]\n",
        "a = [[1, 0], [0, 2], [3, 2]]\n",
        "b = [4, 12, 18]\n",
        "x0_bounds = (0, None)\n",
        "x1_bounds = (0, None)\n",
        "from scipy.optimize import linprog\n",
        "# Solve the problem by Simplex method in Optimization\n",
        "res = linprog(c, a, b, bounds=(x0_bounds, x1_bounds), method='simplex')\n",
        "print (res)"
      ],
      "execution_count": null,
      "outputs": [
        {
          "output_type": "stream",
          "text": [
            "     con: array([], dtype=float64)\n",
            "     fun: -36.0\n",
            " message: 'Optimization terminated successfully.'\n",
            "     nit: 3\n",
            "   slack: array([2., 0., 0.])\n",
            "  status: 0\n",
            " success: True\n",
            "       x: array([2., 6.])\n"
          ],
          "name": "stdout"
        }
      ]
    },
    {
      "cell_type": "markdown",
      "metadata": {
        "id": "5GV37X5XJR6i"
      },
      "source": [
        "**Two Phase Simplex**"
      ]
    },
    {
      "cell_type": "code",
      "metadata": {
        "colab": {
          "base_uri": "https://localhost:8080/"
        },
        "id": "7REVwo3RJWJu",
        "outputId": "71e64b3c-692a-4582-f11a-e51ddd0ab60e"
      },
      "source": [
        "#Two Phase Simplex Method\n",
        "import numpy as np\n",
        "import scipy as sp\n",
        "c = [-1,-1,-1,-1,-1]\n",
        "a = [[3,2,1,0,0], [5,1,1,1, 0], [2,5,1,0,1]]\n",
        "b = [1,3,4]\n",
        "x0_bounds = (0, None)\n",
        "x1_bounds = (0, None)\n",
        "x2_bounds = (0, None)\n",
        "x3_bounds = (0, None)\n",
        "x4_bounds = (0, None)\n",
        "from scipy.optimize import linprog\n",
        "# Solve the problem by Revised Simplex method in Optimization\n",
        "res = linprog(c, a, b, bounds=(x0_bounds, x1_bounds,x2_bounds,x3_bounds,x4_bounds), method='revised simplex')\n",
        "print (res)"
      ],
      "execution_count": null,
      "outputs": [
        {
          "output_type": "stream",
          "text": [
            "     con: array([], dtype=float64)\n",
            "     fun: -7.0\n",
            " message: 'Optimization terminated successfully.'\n",
            "     nit: 5\n",
            "   slack: array([1., 0., 0.])\n",
            "  status: 0\n",
            " success: True\n",
            "       x: array([0., 0., 0., 3., 4.])\n"
          ],
          "name": "stdout"
        }
      ]
    },
    {
      "cell_type": "code",
      "metadata": {
        "colab": {
          "base_uri": "https://localhost:8080/"
        },
        "id": "N-7oTF3naykk",
        "outputId": "00a71b23-2c57-44b3-ca75-34e19f28edfd"
      },
      "source": [
        "pip install pulp"
      ],
      "execution_count": null,
      "outputs": [
        {
          "output_type": "stream",
          "text": [
            "Collecting pulp\n",
            "  Downloading PuLP-2.5.0-py3-none-any.whl (41.2 MB)\n",
            "\u001b[K     |████████████████████████████████| 41.2 MB 71 kB/s \n",
            "\u001b[?25hInstalling collected packages: pulp\n",
            "Successfully installed pulp-2.5.0\n"
          ],
          "name": "stdout"
        }
      ]
    },
    {
      "cell_type": "markdown",
      "metadata": {
        "id": "L9ejnGQhUeBC"
      },
      "source": [
        "**Duality or Dual Simplex**"
      ]
    },
    {
      "cell_type": "code",
      "metadata": {
        "colab": {
          "base_uri": "https://localhost:8080/"
        },
        "id": "qOtNlzktZkg2",
        "outputId": "6da85097-0351-4146-97ba-5f717e1bbf75"
      },
      "source": [
        "#duality\n",
        "from pulp import *\n",
        "prob = LpProblem(\"Dual problem\",LpMinimize)\n",
        "# nonnegativity constraints\n",
        "x1=LpVariable(\"x1\",0)\n",
        "x2=LpVariable(\"x2\",0)\n",
        "# objective function\n",
        "prob += 21*x1 + 50*x2, \"Minimum value of 21*x1 + 50*x2\"\n",
        "# main constraints\n",
        "prob += 2 * x1 + 5* x2 >= 12, \"constraint 1\"\n",
        "prob += 3 * x1 + 7 * x2 >= 17, \"constraint 2\"\n",
        "# The problem is solved using PuLP's choice of Solver\n",
        "prob.solve()\n",
        "print(LpStatus[prob.status])\n",
        "for i in prob.variables():\n",
        "  print(\"Variable\",i.name,\"=\", i.varValue)\n",
        "print (\"Objective function z =\",pulp.value(prob.objective))"
      ],
      "execution_count": null,
      "outputs": [
        {
          "output_type": "stream",
          "text": [
            "Optimal\n",
            "Variable x1 = 1.0\n",
            "Variable x2 = 2.0\n",
            "Objective function z = 121.0\n"
          ],
          "name": "stdout"
        },
        {
          "output_type": "stream",
          "text": [
            "/usr/local/lib/python3.7/dist-packages/pulp/pulp.py:1316: UserWarning: Spaces are not permitted in the name. Converted to '_'\n",
            "  warnings.warn(\"Spaces are not permitted in the name. Converted to '_'\")\n"
          ],
          "name": "stderr"
        }
      ]
    },
    {
      "cell_type": "markdown",
      "metadata": {
        "id": "94GJe_ZNUhVQ"
      },
      "source": [
        "**For all Transporatation Problems(North West, Row-Minima, Column-Minima, Vogel, U-V, Least Cell Methods) Using PULP**"
      ]
    },
    {
      "cell_type": "code",
      "metadata": {
        "colab": {
          "base_uri": "https://localhost:8080/"
        },
        "id": "rfGCNJFUamfB",
        "outputId": "99741f7c-0950-42b8-ca80-170dd46bd506"
      },
      "source": [
        "#Transportation\n",
        "from pulp import*\n",
        "M = 3\n",
        "N = 4\n",
        "xindx = []\n",
        "for i in range(M):\n",
        "  for j in range(N):\n",
        "    xindx.append((i+1,j+1))\n",
        "model = LpProblem(\"Transportation Problem 1\", LpMinimize)\n",
        "x = LpVariable.dicts(\"X\",xindx,0,None)\n",
        "model += 20.0 * x[1,1] + 40.0 * x[1,2] + 70.0 * x[1,3] + 50.0 * x[1,4] + 100*x[2,1] + 60.0*x[2,2] + 90.0*x[2,3] + 80.0 * x[2,4] + 10.0 *x[3,1] + 110.0*x[3,2] + 30.0*x[3,3] + 200*x[3,4], \"Transportation cost\"\n",
        "model+=x[1,1] + x[1,2]+x[1,3]+x[1,4] <= 400.0, \"S Pt1\"\n",
        "model +=x[2,1] + x[2,2]+x[2,3]+x[2,4]<=1500.0, \"S Pt2\"\n",
        "model +=x[3,1]+x[3,2]+x[3,3]+x[3,4]<=900.0, \"S Pt3\"\n",
        "model +=x[1,1]+x[2,1]+x[3,1]>=700.0,\"D Pt1\"\n",
        "model+=x[1,2] + x[2,2]+x[3,2]+x[3,2] >= 600.0, \"D Pt2\"\n",
        "model +=x[1,3] + x[2,3]+x[3,3]+x[3,3]>=1000.0, \"DPt3\"\n",
        "model +=x[1,4]+x[2,4]+x[3,4]+x[3,4]>=500.0, \"D Pt4\"\n",
        "model.solve()\n",
        "print(\"Status:\", LpStatus[model.status])\n",
        "for v in model.variables():\n",
        "  print(v.name, \"=\",v.varValue)\n",
        "print(\"Obj fun\",value(model.objective))"
      ],
      "execution_count": null,
      "outputs": [
        {
          "output_type": "stream",
          "text": [
            "Status: Optimal\n",
            "X_(1,_1) = 300.0\n",
            "X_(1,_2) = 0.0\n",
            "X_(1,_3) = 0.0\n",
            "X_(1,_4) = 100.0\n",
            "X_(2,_1) = 0.0\n",
            "X_(2,_2) = 600.0\n",
            "X_(2,_3) = 0.0\n",
            "X_(2,_4) = 400.0\n",
            "X_(3,_1) = 400.0\n",
            "X_(3,_2) = 0.0\n",
            "X_(3,_3) = 500.0\n",
            "X_(3,_4) = 0.0\n",
            "Obj fun 98000.0\n"
          ],
          "name": "stdout"
        },
        {
          "output_type": "stream",
          "text": [
            "/usr/local/lib/python3.7/dist-packages/pulp/pulp.py:1316: UserWarning: Spaces are not permitted in the name. Converted to '_'\n",
            "  warnings.warn(\"Spaces are not permitted in the name. Converted to '_'\")\n"
          ],
          "name": "stderr"
        }
      ]
    },
    {
      "cell_type": "markdown",
      "metadata": {
        "id": "gE7WN8TiU8Tk"
      },
      "source": [
        "**NorthWest Using Python**"
      ]
    },
    {
      "cell_type": "code",
      "metadata": {
        "colab": {
          "base_uri": "https://localhost:8080/"
        },
        "id": "GZgZpBXncD95",
        "outputId": "3aedd77f-50c2-4301-9dc1-f6cadc88c353"
      },
      "source": [
        "#Transportation NW method in LinearProgramming(UV-method)\n",
        "def north_west_corner(supply, demand):\n",
        "  supply_copy = supply.copy() \n",
        "  demand_copy= demand.copy()\n",
        "  i = 0\n",
        "  j = 0\n",
        "  bfs = []\n",
        "  while len(bfs) < len(supply) + len(demand) - 1: \n",
        "    s= supply_copy[i]\n",
        "    d = demand_copy[j] \n",
        "    v= min(s, d)\n",
        "    supply_copy[i] -= v\n",
        "    demand_copy[j] -=v\n",
        "    bfs.append(((i, j),v))\n",
        "    if supply_copy[i] == 0 and i < len(supply) - 1:\n",
        "      i+= 1\n",
        "    elif demand_copy[j] == 0 and j < len(demand) - 1:\n",
        "      j+= 1\n",
        "  return bfs\n",
        "supply = [30, 70,50]\n",
        "demand = [40, 30, 40, 40]\n",
        "bfs= north_west_corner(supply, demand)\n",
        "print(bfs)"
      ],
      "execution_count": null,
      "outputs": [
        {
          "output_type": "stream",
          "text": [
            "[((0, 0), 30), ((1, 0), 10), ((1, 1), 30), ((1, 2), 30), ((2, 2), 10), ((2, 3), 40)]\n"
          ],
          "name": "stdout"
        }
      ]
    },
    {
      "cell_type": "markdown",
      "metadata": {
        "id": "C1780sZSUQok"
      },
      "source": [
        "**Hungarian Method Using Scipy**"
      ]
    },
    {
      "cell_type": "code",
      "metadata": {
        "colab": {
          "base_uri": "https://localhost:8080/"
        },
        "id": "os41YtRtTeo1",
        "outputId": "85ae6c09-1a2c-4da1-919e-9fc6c39353b5"
      },
      "source": [
        "#Hungarian Method\n",
        "import numpy as np\n",
        "import scipy\n",
        "\n",
        "cost = np.array([[9,11,14,11,7], [6,15,13,13,10], [12,13,6,8,8], [11,9,10,12,9], [7,12,14,10,14]])\n",
        "from scipy.optimize import linear_sum_assignment\n",
        "row_ind, col_ind = linear_sum_assignment(cost)\n",
        "print(col_ind)\n",
        "print(cost[row_ind, col_ind].sum())"
      ],
      "execution_count": null,
      "outputs": [
        {
          "output_type": "stream",
          "text": [
            "[4 0 2 1 3]\n",
            "38\n"
          ],
          "name": "stdout"
        }
      ]
    },
    {
      "cell_type": "markdown",
      "metadata": {
        "id": "ErvgRa7qax8x"
      },
      "source": [
        "**Row Minima Method**"
      ]
    },
    {
      "cell_type": "code",
      "metadata": {
        "colab": {
          "base_uri": "https://localhost:8080/"
        },
        "id": "uTmXGgGQYQhl",
        "outputId": "da3f8d54-53a5-46af-966d-25f589a54a9b"
      },
      "source": [
        "import sys\n",
        "\n",
        "def Row_Minima(supply, demand, costs):\n",
        "  r= len(costs) \n",
        "  c= len(costs[0])\n",
        "  i = 0\n",
        "  j = 0 \n",
        "  bfs = [] \n",
        "  total =0\n",
        "  while i<r: \n",
        "    j=0\n",
        "    while j<c and supply[i]!=0: \n",
        "      m=costs[i].index(min(costs[i]))\n",
        "      if supply[i]>=demand[m] and demand[m]!=0: \n",
        "        total=total+demand[m]*costs[i][m]\n",
        "        bfs.append(((i,m), demand[m]))\n",
        "        supply[i] = supply[i]-demand[m] \n",
        "        demand[m]=0\n",
        "        for k in range( i, r):\n",
        "          costs[k][m]=sys.maxsize\n",
        "      elif (supply[i]<= demand[m] and demand[m] !=0): \n",
        "        total = total + supply[i]*costs[i][m] \n",
        "        bfs.append(((i, m), supply[i]))\n",
        "        demand [m] = demand [m]-supply [i] \n",
        "        supply[i] =0\n",
        "        for k in range( i, c):\n",
        "          costs[i][k]=sys.maxsize\n",
        "      j=j+1\n",
        "    i=i+1\n",
        "  print(\"Total cost=\", total)\n",
        "supply = [200, 160, 90]\n",
        "demand = [180, 120, 150]\n",
        "costs= [[16, 20, 12],[14,8,18],[26,24,16]]\n",
        "Row_Minima(supply, demand, costs)"
      ],
      "execution_count": null,
      "outputs": [
        {
          "output_type": "stream",
          "text": [
            "Total cost= 6460\n"
          ],
          "name": "stdout"
        }
      ]
    },
    {
      "cell_type": "markdown",
      "metadata": {
        "id": "RgaH4MaPYpk8"
      },
      "source": [
        "**Hungarian Method Using PIP**"
      ]
    },
    {
      "cell_type": "code",
      "metadata": {
        "colab": {
          "base_uri": "https://localhost:8080/"
        },
        "id": "WLeo-MApYOiZ",
        "outputId": "aed88385-d35b-4602-8d8a-f1c61858780a"
      },
      "source": [
        "pip install hungarian-algorithm"
      ],
      "execution_count": null,
      "outputs": [
        {
          "output_type": "stream",
          "text": [
            "Requirement already satisfied: hungarian-algorithm in /usr/local/lib/python3.7/dist-packages (0.1.11)\n"
          ],
          "name": "stdout"
        }
      ]
    },
    {
      "cell_type": "code",
      "metadata": {
        "colab": {
          "base_uri": "https://localhost:8080/"
        },
        "id": "dJpg4OVuYPBn",
        "outputId": "31fd8d31-1d8d-4223-bd02-249ef236178a"
      },
      "source": [
        "from hungarian_algorithm import algorithm\n",
        "H = {\n",
        "\t'A': { '#191': 22, '#122': 14, '#173': 120, '#121': 21, '#128': 4, '#104': 51 },\n",
        "\t'B': { '#191': 19, '#122': 12, '#173': 172, '#121': 21, '#128': 28, '#104': 43 },\n",
        "\t'C': { '#191': 161, '#122': 122, '#173': 2, '#121': 50, '#128': 128, '#104': 39 },\n",
        "\t'D': { '#191': 19, '#122': 22, '#173': 90, '#121': 11, '#128': 28, '#104': 4 },\n",
        "\t'E': { '#191': 1, '#122': 30, '#173': 113, '#121': 14, '#128': 28, '#104': 86 },\n",
        "\t'F': { '#191': 60, '#122': 70, '#173': 170, '#121': 28, '#128': 68, '#104': 104 },\n",
        "}\n",
        "res = algorithm.find_matching(H, matching_type = 'min', return_type = 'list' )\n",
        "print(res)"
      ],
      "execution_count": null,
      "outputs": [
        {
          "output_type": "stream",
          "text": [
            "[(('A', '#128'), 4), (('B', '#122'), 12), (('D', '#104'), 4), (('F', '#121'), 28), (('E', '#191'), 1), (('C', '#173'), 2)]\n"
          ],
          "name": "stdout"
        }
      ]
    },
    {
      "cell_type": "markdown",
      "metadata": {
        "id": "NgvFi70afSGA"
      },
      "source": [
        "**Branch and Bound**"
      ]
    },
    {
      "cell_type": "code",
      "metadata": {
        "colab": {
          "base_uri": "https://localhost:8080/"
        },
        "id": "4xECoZ_mfQ-v",
        "outputId": "aa07a035-8b52-43df-e2d7-8190f47012d6"
      },
      "source": [
        "import math\n",
        "maxsize = float('inf')\n",
        "def copyToFinal(curr_path):\n",
        "  final_path[:N + 1] = curr_path[:]\n",
        "  final_path[N] = curr_path[0]\n",
        "def firstMin(adj, i):\n",
        "  min = maxsize\n",
        "  for k in range(N):\n",
        "    if adj[i][k] < min and i != k:\n",
        "       min = adj[i][k]\n",
        "  return min\n",
        "\n",
        "def secondMin(adj, i):\n",
        "  first, second = maxsize, maxsize\n",
        "  for j in range(N):\n",
        "    if i == j:\n",
        "      continue\n",
        "    if adj[i][j] <= first:\n",
        "      second = first\n",
        "      first = adj[i][j]\n",
        "    elif(adj[i][j] <= second and adj[i][j] != first):\n",
        "      second = adj[i][j]\n",
        "  return second\n",
        "\n",
        "def TSPRec(adj, curr_bound, curr_weight,level, curr_path, visited):\n",
        "  global final_res \n",
        "  if level == N:\n",
        "    if adj[curr_path[level - 1]][curr_path[0]] != 0:\n",
        "      curr_res = curr_weight + adj[curr_path[level - 1]][curr_path[0]]\n",
        "      if curr_res < final_res:\n",
        "        copyToFinal(curr_path)\n",
        "        final_res = curr_res\n",
        "    return\n",
        "  for i in range(N):\n",
        "    if (adj[curr_path[level-1]][i] != 0 and visited[i] == False):\n",
        "      temp = curr_bound\n",
        "      curr_weight += adj[curr_path[level - 1]][i]\n",
        "      if level == 1:\n",
        "        curr_bound -= ((firstMin(adj, curr_path[level - 1]) + firstMin(adj, i)) / 2)\n",
        "      else:\n",
        "        curr_bound -= ((secondMin(adj, curr_path[level - 1]) + firstMin(adj, i)) / 2)\n",
        "      if curr_bound + curr_weight < final_res:\n",
        "        curr_path[level] = i\n",
        "        visited[i] = True\n",
        "        TSPRec(adj, curr_bound, curr_weight,level + 1, curr_path, visited)\n",
        "      curr_weight -= adj[curr_path[level - 1]][i]\n",
        "      curr_bound = temp\n",
        "      visited = [False] * len(visited)\n",
        "      for j in range(level):\n",
        "        if curr_path[j] != -1:\n",
        "          visited[curr_path[j]] = True\n",
        "\n",
        "def TSP(adj):\n",
        "  curr_bound = 0\n",
        "  curr_path = [-1] * (N + 1)\n",
        "  visited = [False] * N\n",
        "  for i in range(N):\n",
        "    curr_bound += (firstMin(adj, i) +secondMin(adj, i))\n",
        "  curr_bound = math.ceil(curr_bound / 2)\n",
        "  visited[0] = True\n",
        "  curr_path[0] = 0\n",
        "  TSPRec(adj, curr_bound, 0, 1, curr_path, visited)\n",
        "\n",
        "#Driver Code\n",
        "adj = [[0, 10, 15, 20],\n",
        "[10, 0, 35, 25],\n",
        "[15, 35, 0, 30],\n",
        "[20, 25, 30, 0]]\n",
        "N = 4\n",
        "final_path = [None] * (N + 1)\n",
        "visited = [False] * N\n",
        "final_res = maxsize\n",
        "TSP(adj)\n",
        "print(\"Minimum cost :\", final_res)\n",
        "print(\"Path Taken : \", end = ' ') \n",
        "for i in range(N + 1):\n",
        "  print(final_path[i], end = ' ')"
      ],
      "execution_count": null,
      "outputs": [
        {
          "output_type": "stream",
          "text": [
            "Minimum cost : 80\n",
            "Path Taken :  0 1 3 2 0 "
          ],
          "name": "stdout"
        }
      ]
    },
    {
      "cell_type": "markdown",
      "metadata": {
        "id": "GclutnAAA42o"
      },
      "source": [
        "**Two Phase Simplex Method**"
      ]
    },
    {
      "cell_type": "code",
      "metadata": {
        "colab": {
          "base_uri": "https://localhost:8080/"
        },
        "id": "ihDBBJCWmeB3",
        "outputId": "f4e1d4c7-937e-432f-a333-7ff676c5aa11"
      },
      "source": [
        "#two phase Simplex Method\n",
        "\"\"\"\n",
        "Minimize: z = x1 + x2 + x3 + x4 + x5\n",
        "\n",
        "\n",
        "Subject to: \n",
        "        3x1 + 2x2 + x3               = 1\n",
        "                 5x1 +  x2 +  x3 + x4        = 3\n",
        "                 2x1 + 5x2 + x3 +       x5  = 4\n",
        "\"\"\"\n",
        "def printTableu(tableu):\n",
        " print('----------------------')\n",
        " for row in tableu:\n",
        "  print(row)\n",
        " print('----------------------')\n",
        " return\n",
        "\n",
        "def pivotOn(tableu, row, col):\n",
        " j = 0\n",
        " pivot = tableu[row][col]\n",
        " for x in tableu[row]:\n",
        "  tableu[row][j] = tableu[row][j] / pivot\n",
        "  j += 1\n",
        " i = 0\n",
        " for xi in tableu:\n",
        "  if i != row:\n",
        "   ratio = xi[col]\n",
        "   j = 0\n",
        "   for xij in xi:\n",
        "    xij -= ratio * tableu[row][j]\n",
        "    tableu[i][j] = xij\n",
        "    j += 1\n",
        "  i += 1\n",
        " return tableu\n",
        "\n",
        "# assuming tablue in standard form with basis formed in last m columns\n",
        "def phase_1_simplex(tableu):\n",
        " \n",
        " THETA_INFINITE = -1\n",
        " opt   = False\n",
        " unbounded  = False\n",
        " n = len(tableu[0])\n",
        " m = len(tableu) - 2\n",
        " \n",
        " while ((not opt) and (not unbounded)):\n",
        "  min = 0.0\n",
        "  pivotCol = j = 1\n",
        "  while(j < (n-m)):\n",
        "   cj = tableu[1][j]\n",
        "   if (cj < min):\n",
        "    min = cj\n",
        "    pivotCol = j\n",
        "   j += 1   \n",
        "  if min == 0.0:\n",
        "   opt = True\n",
        "   continue\n",
        "  pivotRow = i = 0\n",
        "  minTheta = THETA_INFINITE\n",
        "  for xi in tableu:\n",
        "   if (i > 1):\n",
        "    xij = xi[pivotCol]\n",
        "    if xij > 0:\n",
        "     theta = (xi[0] / xij)\n",
        "     if (theta < minTheta) or (minTheta == THETA_INFINITE):\n",
        "      minTheta = theta\n",
        "      pivotRow = i\n",
        "   i += 1\n",
        "  if minTheta == THETA_INFINITE:\n",
        "   unbounded = True\n",
        "   continue\n",
        "  tableu = pivotOn(tableu, pivotRow, pivotCol)\n",
        " return tableu\n",
        " \n",
        "def simplex(tableu):\n",
        " \n",
        " THETA_INFINITE = -1\n",
        " opt   = False\n",
        " unbounded  = False\n",
        " n = len(tableu[0])\n",
        " m = len(tableu) - 1\n",
        " \n",
        " while ((not opt) and (not unbounded)):\n",
        "  min = 0.0\n",
        "  pivotCol = j = 0\n",
        "  while(j < (n-m)):\n",
        "   cj = tableu[0][j]\n",
        "   if (cj < min) and (j > 0):\n",
        "    min = cj\n",
        "    pivotCol = j\n",
        "   j += 1   \n",
        "  if min == 0.0:\n",
        "   opt = True\n",
        "   continue\n",
        "  pivotRow = i = 0\n",
        "  minTheta = THETA_INFINITE\n",
        "  for xi in tableu:\n",
        "   if (i > 0):\n",
        "    xij = xi[pivotCol]\n",
        "    if xij > 0:\n",
        "     theta = (xi[0] / xij)\n",
        "     if (theta < minTheta) or (minTheta == THETA_INFINITE):\n",
        "      minTheta = theta\n",
        "      pivotRow = i\n",
        "   i += 1\n",
        "  if minTheta == THETA_INFINITE:\n",
        "   unbounded = True\n",
        "   continue\n",
        "  tableu = pivotOn(tableu, pivotRow, pivotCol)\n",
        " return tableu\n",
        "  \n",
        "def drive_out_artificial_basis(tableu):\n",
        " n = len(tableu[0])\n",
        " j = n - 1\n",
        " isbasis = True\n",
        " while(j > 0):\n",
        "  found = False\n",
        "  i = -1\n",
        "  row = 0\n",
        "  for xi in tableu:\n",
        "   i += 1\n",
        "   if (xi[j] == 1):\n",
        "    if (found):\n",
        "     isbasis = False\n",
        "     continue\n",
        "    elif (i > 1):\n",
        "     row = i\n",
        "     found = True\n",
        "   elif (xi[0] != 0):\n",
        "    isbasis = False\n",
        "    continue\n",
        "  if (isbasis and found):\n",
        "   if (j >= n):\n",
        "    tableu = pivotOn(tableu, row, j)\n",
        "   else:\n",
        "    return tableu\n",
        "  j -= 1\n",
        " return tableu\n",
        "  \n",
        "def two_phase_simpelx(tableu):\n",
        " infeasible  = False\n",
        " tableu = phase_1_simplex(tableu)\n",
        " sigma = tableu[1][0]\n",
        " if (sigma > 0):\n",
        "  infeasible  = True\n",
        "  print('infeasible')\n",
        " else:\n",
        "  #sigma is equals to zero\n",
        "  tableu = drive_out_artificial_basis(tableu)\n",
        "  m = len(tableu) - 2\n",
        "  n = len(tableu[0])\n",
        "  n -= m\n",
        "  tableu.pop(1)\n",
        "  i = 0\n",
        "  while (i < len(tableu)):\n",
        "   tableu[i] = tableu[i][:n]\n",
        "   i += 1\n",
        "  tableu = simplex(tableu)\n",
        " return tableu\n",
        " \n",
        "def getTableu(c, eqs, b):\n",
        " #assume b >= 0 so if there is any b[i] negative make sure to enter\n",
        " #it possitive by multiplying (-1 * eqs[i]) and (-1 * b[i]) for all i\n",
        " tableu = []\n",
        " m = len(eqs)\n",
        " n = len(c)\n",
        " c.insert(0, 0.0)\n",
        " artificial = []\n",
        " sigma = [0.0]\n",
        " i = 0\n",
        " while (i < n):\n",
        "  sigma.append(0.0)\n",
        "  i += 1\n",
        " i = 0\n",
        " while (i < m):\n",
        "  artificial.append(0.0)\n",
        "  sigma.append(1.0)\n",
        "  i += 1\n",
        " c.extend(artificial)\n",
        " tableu.append(c)\n",
        " tableu.append(sigma)\n",
        " i = 0\n",
        " for eq in eqs:\n",
        "  eq.insert(0, b[i])\n",
        "  eq.extend(artificial)\n",
        "  eq[n+1+i] = 1.0\n",
        "  tableu.append(eq)\n",
        "  i += 1\n",
        " i = 0 \n",
        " for xi in tableu:\n",
        "  if (i > 1):\n",
        "   j = 0\n",
        "   for xij in xi:\n",
        "    tableu[1][j] -= xij\n",
        "    j += 1\n",
        "  i += 1\n",
        " return tableu\n",
        "\n",
        "c = [ 1.0, 1.0, 1.0, 1.0, 1.0,]\n",
        "eq1 = [ 3.0 ,  2.0 , 1.0 ,  0.0,  0.0]\n",
        "eq2 = [ 5.0 ,  1.0 , 1.0 ,  1.0,  0.0]\n",
        "eq3 = [ 2.0 ,  5.0 , 1.0 ,  0.0,  1.0]\n",
        "\n",
        "b = [1.0 , 3.0 , 4.0]\n",
        "\n",
        "eqs = []\n",
        "eqs.append(eq1)\n",
        "eqs.append(eq2)\n",
        "eqs.append(eq3)\n",
        "\n",
        "tableu = getTableu(c,eqs,b)\n",
        "printTableu(tableu)\n",
        "tableu = two_phase_simpelx(tableu)\n",
        "\n",
        "printTableu(tableu)\n",
        "print('minimum cost is = {}'.format( -tableu[0][0]))"
      ],
      "execution_count": null,
      "outputs": [
        {
          "output_type": "stream",
          "text": [
            "----------------------\n",
            "[0.0, 1.0, 1.0, 1.0, 1.0, 1.0, 0.0, 0.0, 0.0]\n",
            "[-8.0, -10.0, -8.0, -3.0, -1.0, -1.0, 0.0, 0.0, 0.0]\n",
            "[1.0, 3.0, 2.0, 1.0, 0.0, 0.0, 1.0, 0.0, 0.0]\n",
            "[3.0, 5.0, 1.0, 1.0, 1.0, 0.0, 0.0, 1.0, 0.0]\n",
            "[4.0, 2.0, 5.0, 1.0, 0.0, 1.0, 0.0, 0.0, 1.0]\n",
            "----------------------\n",
            "----------------------\n",
            "[-4.5, 1.5000000000000004, 0.0, 1.5, 0.0, 0.0]\n",
            "[0.5, 1.5, 1.0, 0.5, 0.0, 0.0]\n",
            "[2.5, 3.4999999999999996, 0.0, 0.5, 1.0, 0.0]\n",
            "[1.5, -5.5, 0.0, -1.5, 0.0, 1.0]\n",
            "----------------------\n",
            "minimum cost is = 4.5\n"
          ],
          "name": "stdout"
        }
      ]
    },
    {
      "cell_type": "markdown",
      "metadata": {
        "id": "m2e-CgQ7A9Re"
      },
      "source": [
        "**Vogel Approximation Method**"
      ]
    },
    {
      "cell_type": "code",
      "metadata": {
        "colab": {
          "base_uri": "https://localhost:8080/"
        },
        "id": "UdAmDtJf-SzP",
        "outputId": "17bdbcda-ad9b-48ab-e694-086896836529"
      },
      "source": [
        "from collections import defaultdict\n",
        " \n",
        "costs  = {'W': {'A': 16, 'B': 16, 'C': 13, 'D': 22, 'E': 17},\n",
        "          'X': {'A': 14, 'B': 14, 'C': 13, 'D': 19, 'E': 15},\n",
        "          'Y': {'A': 19, 'B': 19, 'C': 20, 'D': 23, 'E': 50},\n",
        "          'Z': {'A': 50, 'B': 12, 'C': 50, 'D': 15, 'E': 11}}\n",
        "demand = {'A': 30, 'B': 20, 'C': 70, 'D': 30, 'E': 60}\n",
        "cols = sorted(demand.keys())\n",
        "supply = {'W': 50, 'X': 60, 'Y': 50, 'Z': 50}\n",
        "res = dict((k, defaultdict(int)) for k in costs)\n",
        "g = {}\n",
        "for x in supply:\n",
        "    g[x] = sorted(costs[x].keys(), key=lambda g: costs[x][g])\n",
        "for x in demand:\n",
        "    g[x] = sorted(costs.keys(), key=lambda g: costs[g][x])\n",
        " \n",
        "while g:\n",
        "    d = {}\n",
        "    for x in demand:\n",
        "        d[x] = (costs[g[x][1]][x] - costs[g[x][0]][x]) if len(g[x]) > 1 else costs[g[x][0]][x]\n",
        "    s = {}\n",
        "    for x in supply:\n",
        "        s[x] = (costs[x][g[x][1]] - costs[x][g[x][0]]) if len(g[x]) > 1 else costs[x][g[x][0]]\n",
        "    f = max(d, key=lambda n: d[n])\n",
        "    t = max(s, key=lambda n: s[n])\n",
        "    t, f = (f, g[f][0]) if d[f] > s[t] else (g[t][0], t)\n",
        "    v = min(supply[f], demand[t])\n",
        "    res[f][t] += v\n",
        "    demand[t] -= v\n",
        "    if demand[t] == 0:\n",
        "        for k, n in supply.items():\n",
        "            if n != 0:\n",
        "                g[k].remove(t)\n",
        "        del g[t]\n",
        "        del demand[t]\n",
        "    supply[f] -= v\n",
        "    if supply[f] == 0:\n",
        "        for k, n in demand.items():\n",
        "            if n != 0:\n",
        "                g[k].remove(f)\n",
        "        del g[f]\n",
        "        del supply[f]\n",
        " \n",
        "for n in cols:\n",
        "    print(n,end=\" \")\n",
        "print()\n",
        "cost = 0\n",
        "for g in sorted(costs):\n",
        "    print(g,end=\" \")\n",
        "    for n in cols:\n",
        "        y = res[g][n]\n",
        "        if y != 0:\n",
        "            print(y,end=\" \")\n",
        "        cost += y * costs[g][n]\n",
        "print(\"\\n\\nTotal Cost = \", cost)"
      ],
      "execution_count": null,
      "outputs": [
        {
          "output_type": "stream",
          "text": [
            "A B C D E \n",
            "W 50 X 20 40 Y 30 20 Z 30 20 \n",
            "\n",
            "Total Cost =  3130\n"
          ],
          "name": "stdout"
        }
      ]
    }
  ]
}